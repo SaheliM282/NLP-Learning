{
 "cells": [
  {
   "cell_type": "code",
   "execution_count": 21,
   "id": "7f5254a4",
   "metadata": {},
   "outputs": [],
   "source": [
    "import spacy\n",
    "nlp = spacy.load(\"en_core_web_sm\")"
   ]
  },
  {
   "cell_type": "markdown",
   "id": "232c3987",
   "metadata": {},
   "source": [
    "# Excersie: 1\n",
    "Extract all the Geographical (cities, Countries, states) names from a given text"
   ]
  },
  {
   "cell_type": "code",
   "execution_count": 45,
   "id": "f0d97fd7",
   "metadata": {},
   "outputs": [],
   "source": [
    "cont = nlp(\"\"\"Kiran want to know the famous foods in each state of India. So, he opened Google and search for this question. Google showed that\n",
    "in Delhi it is Chaat, in Gujarat it is Dal Dhokli, in Tamilnadu it is Pongal, in Andhrapradesh it is Biryani, in Assam it is Papaya Khar,\n",
    "in Bihar it is Litti Chowkha and so on for all other states\"\"\")"
   ]
  },
  {
   "cell_type": "code",
   "execution_count": 46,
   "id": "630252a0",
   "metadata": {},
   "outputs": [
    {
     "name": "stdout",
     "output_type": "stream",
     "text": [
      "Kiran | ORG | Companies, agencies, institutions, etc.\n",
      "India | GPE | Countries, cities, states\n",
      "Google | ORG | Companies, agencies, institutions, etc.\n",
      "Google | ORG | Companies, agencies, institutions, etc.\n",
      "Delhi | GPE | Countries, cities, states\n",
      "Chaat | ORG | Companies, agencies, institutions, etc.\n",
      "Gujarat | GPE | Countries, cities, states\n",
      "Dal Dhokli | PERSON | People, including fictional\n",
      "Tamilnadu | GPE | Countries, cities, states\n",
      "Pongal | GPE | Countries, cities, states\n",
      "Andhrapradesh | GPE | Countries, cities, states\n",
      "Biryani | PERSON | People, including fictional\n",
      "Assam | GPE | Countries, cities, states\n",
      "Papaya Khar | PERSON | People, including fictional\n",
      "Bihar | GPE | Countries, cities, states\n",
      "Litti Chowkha | PERSON | People, including fictional\n"
     ]
    }
   ],
   "source": [
    "for words in cont.ents:\n",
    "    print(words.text, \"|\", words.label_, \"|\", spacy.explain(words.label_))"
   ]
  },
  {
   "cell_type": "code",
   "execution_count": 47,
   "id": "99892bd8",
   "metadata": {},
   "outputs": [],
   "source": [
    "Locations = []\n",
    "for words in cont.ents:\n",
    "    if words.label_ == \"GPE\":\n",
    "        Locations.append(words)"
   ]
  },
  {
   "cell_type": "code",
   "execution_count": 48,
   "id": "0b51f62a",
   "metadata": {},
   "outputs": [
    {
     "name": "stdout",
     "output_type": "stream",
     "text": [
      "[India, Delhi, Gujarat, Tamilnadu, Pongal, Andhrapradesh, Assam, Bihar]\n"
     ]
    }
   ],
   "source": [
    "print(Locations) #Pongal is also counted which, in reality, is not a geographical location."
   ]
  },
  {
   "cell_type": "markdown",
   "id": "83f3039b",
   "metadata": {},
   "source": [
    "# Excersie: 2\n",
    "Extract all the birth dates of cricketers in the given Text"
   ]
  },
  {
   "cell_type": "code",
   "execution_count": 49,
   "id": "307c37b6",
   "metadata": {},
   "outputs": [],
   "source": [
    "text = \"\"\"Sachin Tendulkar was born on 24 April 1973, Virat Kholi was born on 5 November 1988, Dhoni was born on 7 July 1981\n",
    "and finally Ricky ponting was born on 19 December 1974.\"\"\"\n",
    "\n",
    "doc = nlp(text)"
   ]
  },
  {
   "cell_type": "code",
   "execution_count": 50,
   "id": "c45c12b7",
   "metadata": {},
   "outputs": [
    {
     "name": "stdout",
     "output_type": "stream",
     "text": [
      "Sachin Tendulkar | PERSON | People, including fictional\n",
      "24 April 1973 | DATE | Absolute or relative dates or periods\n",
      "Virat Kholi | LOC | Non-GPE locations, mountain ranges, bodies of water\n",
      "5 November 1988 | DATE | Absolute or relative dates or periods\n",
      "Dhoni | PERSON | People, including fictional\n",
      "7 July 1981 | DATE | Absolute or relative dates or periods\n",
      "Ricky | PERSON | People, including fictional\n",
      "19 December 1974 | DATE | Absolute or relative dates or periods\n"
     ]
    }
   ],
   "source": [
    "for ent in doc.ents:\n",
    "    print(ent.text, \"|\", ent.label_, \"|\", spacy.explain(ent.label_))"
   ]
  },
  {
   "cell_type": "code",
   "execution_count": 51,
   "id": "7a1a95ec",
   "metadata": {},
   "outputs": [],
   "source": [
    "DoB = []\n",
    "for ent in doc.ents:\n",
    "    if ent.label_ == \"DATE\":\n",
    "        DoB.append(ent)"
   ]
  },
  {
   "cell_type": "code",
   "execution_count": 52,
   "id": "955be417",
   "metadata": {},
   "outputs": [
    {
     "name": "stdout",
     "output_type": "stream",
     "text": [
      "Date of Birth: [24 April 1973, 5 November 1988, 7 July 1981, 19 December 1974]\n"
     ]
    }
   ],
   "source": [
    "print(\"Date of Birth:\", DoB)"
   ]
  },
  {
   "cell_type": "code",
   "execution_count": null,
   "id": "7508744f",
   "metadata": {},
   "outputs": [],
   "source": []
  }
 ],
 "metadata": {
  "kernelspec": {
   "display_name": "Python 3 (ipykernel)",
   "language": "python",
   "name": "python3"
  },
  "language_info": {
   "codemirror_mode": {
    "name": "ipython",
    "version": 3
   },
   "file_extension": ".py",
   "mimetype": "text/x-python",
   "name": "python",
   "nbconvert_exporter": "python",
   "pygments_lexer": "ipython3",
   "version": "3.11.5"
  }
 },
 "nbformat": 4,
 "nbformat_minor": 5
}
