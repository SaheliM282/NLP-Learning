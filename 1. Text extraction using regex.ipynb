{
 "cells": [
  {
   "cell_type": "code",
   "execution_count": 15,
   "id": "10796d67",
   "metadata": {},
   "outputs": [],
   "source": [
    "import re"
   ]
  },
  {
   "cell_type": "markdown",
   "id": "6425fbc5",
   "metadata": {},
   "source": [
    "https://github.com/codebasics/py/blob/master/Advanced/regex/regex_tutorial_exercise_questions.ipynb"
   ]
  },
  {
   "cell_type": "code",
   "execution_count": 3,
   "id": "63ac8aca",
   "metadata": {},
   "outputs": [],
   "source": [
    "#1. Extract all twitter handles from following text.\n",
    "# Twitter handle is the text that appears after https://twitter.com/ and is a single word. \n",
    "#Also it contains only alpha numeric characters i.e. A-Z a-z , o to 9 and underscore _"
   ]
  },
  {
   "cell_type": "code",
   "execution_count": 24,
   "id": "2f98c953",
   "metadata": {},
   "outputs": [
    {
     "data": {
      "text/plain": [
       "['elonmusk', 'teslarati', 'dummy_tesla', 'dummy_2_tesla']"
      ]
     },
     "execution_count": 24,
     "metadata": {},
     "output_type": "execute_result"
    }
   ],
   "source": [
    "text = '''\n",
    "Follow our leader Elon musk on twitter here: https://twitter.com/elonmusk, more information \n",
    "on Tesla's products can be found at https://www.tesla.com/. Also here are leading influencers \n",
    "for tesla related news,\n",
    "https://twitter.com/teslarati\n",
    "https://twitter.com/dummy_tesla\n",
    "https://twitter.com/dummy_2_tesla\n",
    "'''\n",
    "pattern = 'com\\/([A-Za-z0-9_]+)'\n",
    "\n",
    "re.findall(pattern, text)"
   ]
  },
  {
   "cell_type": "code",
   "execution_count": 6,
   "id": "f941d0bc",
   "metadata": {},
   "outputs": [],
   "source": [
    "#2. Extract Concentration Risk Types. \n",
    "#It will be a text that appears after \"Concentration Risk:\", \n",
    "#In below example, your regex should extract these two strings\n",
    "#(1) Credit Risk\n",
    "#(2) Supply Risk"
   ]
  },
  {
   "cell_type": "code",
   "execution_count": 19,
   "id": "ca4bf007",
   "metadata": {},
   "outputs": [
    {
     "data": {
      "text/plain": [
       "['Credit Risk', 'Supply Risk']"
      ]
     },
     "execution_count": 19,
     "metadata": {},
     "output_type": "execute_result"
    }
   ],
   "source": [
    "text = '''\n",
    "Concentration of Risk: Credit Risk\n",
    "Financial instruments that potentially subject us to a concentration of credit risk consist of cash, cash equivalents, marketable securities,\n",
    "restricted cash, accounts receivable, convertible note hedges, and interest rate swaps. Our cash balances are primarily invested in money market funds\n",
    "or on deposit at high credit quality financial institutions in the U.S. These deposits are typically in excess of insured limits. As of September 30, 2021\n",
    "and December 31, 2020, no entity represented 10% or more of our total accounts receivable balance. The risk of concentration for our convertible note\n",
    "hedges and interest rate swaps is mitigated by transacting with several highly-rated multinational banks.\n",
    "Concentration of Risk: Supply Risk\n",
    "We are dependent on our suppliers, including single source suppliers, and the inability of these suppliers to deliver necessary components of our\n",
    "products in a timely manner at prices, quality levels and volumes acceptable to us, or our inability to efficiently manage these components from these\n",
    "suppliers, could have a material adverse effect on our business, prospects, financial condition and operating results.\n",
    "'''\n",
    "pattern = 'Concentration of Risk: (.+)\\n'\n",
    "\n",
    "re.findall(pattern, text)"
   ]
  },
  {
   "cell_type": "code",
   "execution_count": 13,
   "id": "4e70f45c",
   "metadata": {},
   "outputs": [],
   "source": [
    "#3. Companies in europe reports their financial numbers of semi annual basis and you can have a document like this. \n",
    "#To exatract quarterly and semi annual period you can use a regex as shown below\n",
    "#Hint: you need to use (?:) here to match everything enclosed"
   ]
  },
  {
   "cell_type": "code",
   "execution_count": 14,
   "id": "39fb6bd7",
   "metadata": {},
   "outputs": [
    {
     "data": {
      "text/plain": [
       "['2021 Q1', '2021 S1']"
      ]
     },
     "execution_count": 14,
     "metadata": {},
     "output_type": "execute_result"
    }
   ],
   "source": [
    "text = '''\n",
    "Tesla's gross cost of operating lease vehicles in FY2021 Q1 was $4.85 billion.\n",
    "BMW's gross cost of operating vehicles in FY2021 S1 was $8 billion.\n",
    "'''\n",
    "\n",
    "pattern = 'FY(\\d{4} (?:Q[1-4]|S[1-2]))'\n",
    "matches = re.findall(pattern, text)\n",
    "matches"
   ]
  },
  {
   "cell_type": "code",
   "execution_count": 16,
   "id": "fb085d97",
   "metadata": {},
   "outputs": [],
   "source": [
    "#3. Companies in europe reports their financial numbers of semi annual basis and you can have a document like this. \n",
    "#To exatract quarterly and semi annual period you can use a regex as shown below\n",
    "#W/o Hint: you need to use (?:) here to match everything enclosed"
   ]
  },
  {
   "cell_type": "code",
   "execution_count": 20,
   "id": "76c1aa1a",
   "metadata": {},
   "outputs": [
    {
     "data": {
      "text/plain": [
       "['2021 Q1', '2021 S1']"
      ]
     },
     "execution_count": 20,
     "metadata": {},
     "output_type": "execute_result"
    }
   ],
   "source": [
    "text = '''\n",
    "Tesla's gross cost of operating lease vehicles in FY2021 Q1 was $4.85 billion.\n",
    "BMW's gross cost of operating vehicles in FY2021 S1 was $8 billion.\n",
    "'''\n",
    "\n",
    "pattern = 'FY(\\d{4} [A-Z]\\d)'\n",
    "re.findall(pattern, text)"
   ]
  }
 ],
 "metadata": {
  "kernelspec": {
   "display_name": "Python 3 (ipykernel)",
   "language": "python",
   "name": "python3"
  },
  "language_info": {
   "codemirror_mode": {
    "name": "ipython",
    "version": 3
   },
   "file_extension": ".py",
   "mimetype": "text/x-python",
   "name": "python",
   "nbconvert_exporter": "python",
   "pygments_lexer": "ipython3",
   "version": "3.11.5"
  }
 },
 "nbformat": 4,
 "nbformat_minor": 5
}
